{
 "cells": [
  {
   "cell_type": "code",
   "execution_count": 1,
   "metadata": {},
   "outputs": [],
   "source": [
    "from datasets import load_dataset\n",
    "\n",
    "dataset = load_dataset(\"DBD-research-group/BirdSet\", \"XCM\", cache_dir=\"/home/lrauch/projects/birdMAE/data/XCM\", num_proc=1, revision=\"629b54c06874b6d2fa886e1c0d73146c975612d0\")"
   ]
  },
  {
   "cell_type": "code",
   "execution_count": 2,
   "metadata": {},
   "outputs": [],
   "source": [
    "dataset = dataset[\"train\"].select(range(10_000))"
   ]
  },
  {
   "cell_type": "code",
   "execution_count": 3,
   "metadata": {},
   "outputs": [
    {
     "data": {
      "text/plain": [
       "Dataset({\n",
       "    features: ['audio', 'filepath', 'start_time', 'end_time', 'low_freq', 'high_freq', 'ebird_code', 'ebird_code_multilabel', 'ebird_code_secondary', 'call_type', 'sex', 'lat', 'long', 'length', 'microphone', 'license', 'source', 'local_time', 'detected_events', 'event_cluster', 'peaks', 'quality', 'recordist'],\n",
       "    num_rows: 10000\n",
       "})"
      ]
     },
     "execution_count": 3,
     "metadata": {},
     "output_type": "execute_result"
    }
   ],
   "source": [
    "dataset"
   ]
  },
  {
   "cell_type": "code",
   "execution_count": 4,
   "metadata": {},
   "outputs": [
    {
     "name": "stdout",
     "output_type": "stream",
     "text": [
      "loading dataset\n",
      "casting columns\n",
      "event mapping\n",
      "smart sampling\n"
     ]
    },
    {
     "name": "stderr",
     "output_type": "stream",
     "text": [
      "smart sampling:   0%|          | 0/20 [00:00<?, ?it/s]"
     ]
    },
    {
     "name": "stdout",
     "output_type": "stream",
     "text": [
      "0\n"
     ]
    },
    {
     "name": "stderr",
     "output_type": "stream",
     "text": [
      "smart sampling:   5%|▌         | 1/20 [00:00<00:02,  8.22it/s]"
     ]
    },
    {
     "name": "stdout",
     "output_type": "stream",
     "text": [
      "1\n"
     ]
    },
    {
     "name": "stderr",
     "output_type": "stream",
     "text": [
      "smart sampling:  10%|█         | 2/20 [00:00<00:03,  5.68it/s]"
     ]
    },
    {
     "name": "stdout",
     "output_type": "stream",
     "text": [
      "2\n"
     ]
    },
    {
     "name": "stderr",
     "output_type": "stream",
     "text": [
      "smart sampling:  15%|█▌        | 3/20 [00:00<00:02,  6.81it/s]"
     ]
    },
    {
     "name": "stdout",
     "output_type": "stream",
     "text": [
      "3\n",
      "4\n"
     ]
    },
    {
     "name": "stderr",
     "output_type": "stream",
     "text": [
      "smart sampling:  25%|██▌       | 5/20 [00:00<00:01,  7.63it/s]"
     ]
    },
    {
     "name": "stdout",
     "output_type": "stream",
     "text": [
      "5\n"
     ]
    },
    {
     "name": "stderr",
     "output_type": "stream",
     "text": [
      "smart sampling:  30%|███       | 6/20 [00:00<00:02,  5.44it/s]"
     ]
    },
    {
     "name": "stdout",
     "output_type": "stream",
     "text": [
      "6\n"
     ]
    },
    {
     "name": "stderr",
     "output_type": "stream",
     "text": [
      "smart sampling:  35%|███▌      | 7/20 [00:01<00:02,  5.85it/s]"
     ]
    },
    {
     "name": "stdout",
     "output_type": "stream",
     "text": [
      "7\n"
     ]
    },
    {
     "name": "stderr",
     "output_type": "stream",
     "text": [
      "smart sampling:  40%|████      | 8/20 [00:01<00:01,  6.62it/s]"
     ]
    },
    {
     "name": "stdout",
     "output_type": "stream",
     "text": [
      "8\n",
      "9\n"
     ]
    },
    {
     "name": "stderr",
     "output_type": "stream",
     "text": [
      "smart sampling:  50%|█████     | 10/20 [00:01<00:01,  8.56it/s]"
     ]
    },
    {
     "name": "stdout",
     "output_type": "stream",
     "text": [
      "10\n"
     ]
    },
    {
     "name": "stderr",
     "output_type": "stream",
     "text": [
      "smart sampling:  55%|█████▌    | 11/20 [00:01<00:01,  8.66it/s]"
     ]
    },
    {
     "name": "stdout",
     "output_type": "stream",
     "text": [
      "11\n"
     ]
    },
    {
     "name": "stderr",
     "output_type": "stream",
     "text": [
      "smart sampling:  60%|██████    | 12/20 [00:01<00:00,  8.40it/s]"
     ]
    },
    {
     "name": "stdout",
     "output_type": "stream",
     "text": [
      "12\n",
      "13\n"
     ]
    },
    {
     "name": "stderr",
     "output_type": "stream",
     "text": [
      "smart sampling:  70%|███████   | 14/20 [00:01<00:00,  7.28it/s]"
     ]
    },
    {
     "name": "stdout",
     "output_type": "stream",
     "text": [
      "16\n",
      "17\n"
     ]
    },
    {
     "name": "stderr",
     "output_type": "stream",
     "text": [
      "smart sampling:  80%|████████  | 16/20 [00:02<00:00,  8.57it/s]"
     ]
    },
    {
     "name": "stdout",
     "output_type": "stream",
     "text": [
      "18\n"
     ]
    },
    {
     "name": "stderr",
     "output_type": "stream",
     "text": [
      "smart sampling:  85%|████████▌ | 17/20 [00:02<00:00,  8.65it/s]"
     ]
    },
    {
     "name": "stdout",
     "output_type": "stream",
     "text": [
      "19\n",
      "20\n"
     ]
    },
    {
     "name": "stderr",
     "output_type": "stream",
     "text": [
      "smart sampling:  95%|█████████▌| 19/20 [00:02<00:00,  9.85it/s]"
     ]
    },
    {
     "name": "stdout",
     "output_type": "stream",
     "text": [
      "21\n"
     ]
    },
    {
     "name": "stderr",
     "output_type": "stream",
     "text": [
      "smart sampling: 100%|██████████| 20/20 [00:02<00:00,  8.07it/s]\n"
     ]
    },
    {
     "name": "stdout",
     "output_type": "stream",
     "text": [
      "one-hot\n"
     ]
    },
    {
     "data": {
      "application/vnd.jupyter.widget-view+json": {
       "model_id": "fc2007d28eb7496eab5d2d6c10f50046",
       "version_major": 2,
       "version_minor": 0
      },
      "text/plain": [
       "Map:   0%|          | 0/10000 [00:00<?, ? examples/s]"
      ]
     },
     "metadata": {},
     "output_type": "display_data"
    },
    {
     "name": "stdout",
     "output_type": "stream",
     "text": [
      "savin\n"
     ]
    },
    {
     "data": {
      "application/vnd.jupyter.widget-view+json": {
       "model_id": "54c702e3b24a4144af6726631caaaf01",
       "version_major": 2,
       "version_minor": 0
      },
      "text/plain": [
       "Saving the dataset (0/1 shards):   0%|          | 0/10000 [00:00<?, ? examples/s]"
      ]
     },
     "metadata": {},
     "output_type": "display_data"
    }
   ],
   "source": [
    "import pandas as pd\n",
    "from collections import Counter\n",
    "import random\n",
    "\n",
    "from datasets import load_dataset, Audio, DatasetDict\n",
    "from birdset.datamodule.components.event_mapping import XCEventMapping\n",
    "from tqdm import tqdm\n",
    "\n",
    "import torch\n",
    "\n",
    "\n",
    "def smart_sampling( dataset, label_name, class_limit, event_limit):\n",
    "    def _unique_identifier(x, labelname):\n",
    "        file = x[\"filepath\"]\n",
    "        label = x[labelname]\n",
    "        return {\"id\": f\"{file}-{label}\"}\n",
    "\n",
    "    class_limit = class_limit if class_limit else -float(\"inf\")\n",
    "    dataset = dataset.map(\n",
    "        lambda x: _unique_identifier(x, label_name), desc=\"unique_id\"\n",
    "    )\n",
    "    df = pd.DataFrame(dataset)\n",
    "    path_label_count = df.groupby([\"id\", label_name], as_index=False).size()\n",
    "    path_label_count = path_label_count.set_index(\"id\")\n",
    "    class_sizes = df.groupby(label_name).size()\n",
    "\n",
    "    for label in tqdm(class_sizes.index, desc=\"smart sampling\"):\n",
    "        print(label, flush=True)\n",
    "        current = path_label_count[path_label_count[label_name] == label]\n",
    "        total = current[\"size\"].sum()\n",
    "        most = current[\"size\"].max()\n",
    "\n",
    "        while total > class_limit or most != event_limit:\n",
    "            largest_count = current[\"size\"].value_counts()[current[\"size\"].max()]\n",
    "            n_largest = current.nlargest(largest_count + 1, \"size\")\n",
    "            to_del = n_largest[\"size\"].max() - n_largest[\"size\"].min()\n",
    "\n",
    "            idxs = n_largest[n_largest[\"size\"] == n_largest[\"size\"].max()].index\n",
    "            if (\n",
    "                total - (to_del * largest_count) < class_limit\n",
    "                or most == event_limit\n",
    "                or most == 1\n",
    "            ):\n",
    "                break\n",
    "            for idx in idxs:\n",
    "                current.at[idx, \"size\"] = current.at[idx, \"size\"] - to_del\n",
    "                path_label_count.at[idx, \"size\"] = (\n",
    "                    path_label_count.at[idx, \"size\"] - to_del\n",
    "                )\n",
    "\n",
    "            total = current[\"size\"].sum()\n",
    "            most = current[\"size\"].max()\n",
    "\n",
    "\n",
    "    event_counts = Counter(dataset[\"id\"])\n",
    "\n",
    "    all_file_indices = {label: [] for label in event_counts.keys()}\n",
    "    for idx, label in enumerate(dataset[\"id\"]):\n",
    "        all_file_indices[label].append(idx)\n",
    "\n",
    "    limited_indices = []\n",
    "    for file, indices in all_file_indices.items():\n",
    "        limit = path_label_count.loc[file][\"size\"]\n",
    "        limited_indices.extend(random.sample(indices, limit))\n",
    "\n",
    "    dataset = dataset.remove_columns(\"id\")\n",
    "    return dataset.select(limited_indices)\n",
    "\n",
    "\n",
    "def _classes_one_hot(batch):\n",
    "    label_list = [y for y in batch[\"labels\"]]\n",
    "    class_one_hot_matrix = torch.zeros(\n",
    "        (len(label_list), 411), dtype=torch.float32\n",
    "    )\n",
    "\n",
    "    for class_idx, idx in enumerate(label_list):\n",
    "        class_one_hot_matrix[class_idx, idx] = 1\n",
    "\n",
    "    class_one_hot_matrix = torch.tensor(class_one_hot_matrix, dtype=torch.float32)\n",
    "    return {\"labels\": class_one_hot_matrix}\n",
    "\n",
    "print(\"loading dataset\", flush=True)\n",
    "# dataset = load_dataset(\"DBD-research-group/BirdSet\", \"XCL\",\n",
    "#                        cache_dir=\"/scratch/birdset/XCL\",\n",
    "#                        num_proc=1,\n",
    "#                        trust_remote_code=True)\n",
    "# only for not l40s!! #, revision=\"629b54c06874b6d2fa886e1c0d73146c975612d0\")\n",
    "\n",
    "train = dataset\n",
    "\n",
    "print(\"casting columns\", flush=True)\n",
    "train = train.cast_column(\n",
    "    column=\"audio\",\n",
    "    feature=Audio(\n",
    "        sampling_rate=32_000,\n",
    "        mono=True,\n",
    "        decode=False,\n",
    "    ),\n",
    ")\n",
    "\n",
    "mapper = XCEventMapping()\n",
    "\n",
    "print(\"event mapping\", flush=True)\n",
    "train = train.map(\n",
    "    mapper,\n",
    "    remove_columns=[\"audio\"],\n",
    "    batched=True,\n",
    "    batch_size=300,\n",
    "    num_proc=3,\n",
    "    desc=\"Train event mapping\"\n",
    ")\n",
    "\n",
    "\n",
    "print(\"smart sampling\", flush=True)\n",
    "train = smart_sampling(\n",
    "    dataset=train,\n",
    "    label_name=\"ebird_code\",\n",
    "    class_limit=100,\n",
    "    event_limit=1\n",
    ")\n",
    "\n",
    "train = train.rename_column(\"ebird_code_multilabel\", \"labels\")\n",
    "\n",
    "print(\"one-hot\")\n",
    "train = train.map(\n",
    "    _classes_one_hot,\n",
    "    batched=True,\n",
    "    batch_size=500,\n",
    "    num_proc=1\n",
    ")\n",
    "\n",
    "train = train.select_columns([\"filepath\", \"labels\", \"detected_events\", \"start_time\", \"end_time\"])\n",
    "\n",
    "ds_dict = DatasetDict({\n",
    "    \"train\": train,\n",
    "})\n",
    "\n",
    "print(\"savin\", flush=True)\n",
    "ds_dict.save_to_disk(\"/home/lrauch/projects/birdMAE/data/XCM/XCM_processed_100_1events_ogg_withlabels_float32\")"
   ]
  },
  {
   "cell_type": "code",
   "execution_count": null,
   "metadata": {},
   "outputs": [],
   "source": []
  }
 ],
 "metadata": {
  "kernelspec": {
   "display_name": "birdmae",
   "language": "python",
   "name": "python3"
  },
  "language_info": {
   "codemirror_mode": {
    "name": "ipython",
    "version": 3
   },
   "file_extension": ".py",
   "mimetype": "text/x-python",
   "name": "python",
   "nbconvert_exporter": "python",
   "pygments_lexer": "ipython3",
   "version": "3.10.14"
  }
 },
 "nbformat": 4,
 "nbformat_minor": 2
}
