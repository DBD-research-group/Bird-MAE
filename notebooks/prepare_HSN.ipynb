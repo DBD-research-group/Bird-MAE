{
 "cells": [
  {
   "cell_type": "markdown",
   "metadata": {},
   "source": []
  },
  {
   "cell_type": "code",
   "execution_count": 1,
   "metadata": {},
   "outputs": [
    {
     "data": {
      "application/vnd.jupyter.widget-view+json": {
       "model_id": "461b5d4154b642b99e7925856e4afee6",
       "version_major": 2,
       "version_minor": 0
      },
      "text/plain": [
       "UHH_test5s_shard_0001.tar.gz:   0%|          | 0.00/1.52G [00:00<?, ?B/s]"
      ]
     },
     "metadata": {},
     "output_type": "display_data"
    },
    {
     "data": {
      "application/vnd.jupyter.widget-view+json": {
       "model_id": "095a5953427e45a394a58ea15aae6183",
       "version_major": 2,
       "version_minor": 0
      },
      "text/plain": [
       "UHH_metadata_train.parquet:   0%|          | 0.00/794k [00:00<?, ?B/s]"
      ]
     },
     "metadata": {},
     "output_type": "display_data"
    },
    {
     "data": {
      "application/vnd.jupyter.widget-view+json": {
       "model_id": "a86821e69ef44aac9d5f168ea2dde7a7",
       "version_major": 2,
       "version_minor": 0
      },
      "text/plain": [
       "UHH_metadata_test.parquet:   0%|          | 0.00/706k [00:00<?, ?B/s]"
      ]
     },
     "metadata": {},
     "output_type": "display_data"
    },
    {
     "data": {
      "application/vnd.jupyter.widget-view+json": {
       "model_id": "5ede9bacaa774ce7b8979962a4e21655",
       "version_major": 2,
       "version_minor": 0
      },
      "text/plain": [
       "UHH_metadata_test_5s.parquet:   0%|          | 0.00/508k [00:00<?, ?B/s]"
      ]
     },
     "metadata": {},
     "output_type": "display_data"
    },
    {
     "data": {
      "application/vnd.jupyter.widget-view+json": {
       "model_id": "a2f91501322c4cf386506d2cbf40f956",
       "version_major": 2,
       "version_minor": 0
      },
      "text/plain": [
       "Generating train split: 0 examples [00:00, ? examples/s]"
      ]
     },
     "metadata": {},
     "output_type": "display_data"
    },
    {
     "data": {
      "application/vnd.jupyter.widget-view+json": {
       "model_id": "72d3865167a94bf8b49794f8e2a9ce31",
       "version_major": 2,
       "version_minor": 0
      },
      "text/plain": [
       "Generating test split: 0 examples [00:00, ? examples/s]"
      ]
     },
     "metadata": {},
     "output_type": "display_data"
    },
    {
     "name": "stderr",
     "output_type": "stream",
     "text": [
      "Setting num_proc from 5 back to 1 for the test_5s split to disable multiprocessing as it only contains one shard.\n"
     ]
    },
    {
     "data": {
      "application/vnd.jupyter.widget-view+json": {
       "model_id": "a14c6d5d81ab453d8205b293b31abfed",
       "version_major": 2,
       "version_minor": 0
      },
      "text/plain": [
       "Generating test_5s split: 0 examples [00:00, ? examples/s]"
      ]
     },
     "metadata": {},
     "output_type": "display_data"
    }
   ],
   "source": [
    "from datasets import load_dataset\n",
    "\n",
    "dataset = load_dataset(\"DBD-research-group/BirdSet\", \"UHH\", cache_dir=\"/home/lrauch/projects/birdMAE/data/UHH\", num_proc=5)"
   ]
  },
  {
   "cell_type": "code",
   "execution_count": 2,
   "metadata": {},
   "outputs": [],
   "source": [
    "from birdset.datamodule.base_datamodule import DatasetConfig\n",
    "from birdset.datamodule.birdset_datamodule import BirdSetDataModule\n",
    "from datasets import load_from_disk\n",
    "\n",
    "# initiate the data module\n",
    "dm = BirdSetDataModule(\n",
    "    dataset= DatasetConfig(\n",
    "        data_dir=\"/home/lrauch/projects/birdMAE/data/HSN\", # specify your data directory!\n",
    "        hf_path='DBD-research-group/BirdSet',\n",
    "        hf_name='HSN',\n",
    "        n_workers=3,\n",
    "        val_split=0.2,\n",
    "        task=\"multilabel\",\n",
    "        classlimit=600, #limit of samples per class \n",
    "        eventlimit=5, #limit of events that are extracted for each sample\n",
    "        sampling_rate=32_000,\n",
    "    ),\n",
    ")"
   ]
  },
  {
   "cell_type": "code",
   "execution_count": 3,
   "metadata": {},
   "outputs": [
    {
     "data": {
      "application/vnd.jupyter.widget-view+json": {
       "model_id": "3ba3fcab1c4c491a94c87dba84b2e321",
       "version_major": 2,
       "version_minor": 0
      },
      "text/plain": [
       "One-hot-encoding train labels. (num_proc=3):   0%|          | 0/18256 [00:00<?, ? examples/s]"
      ]
     },
     "metadata": {},
     "output_type": "display_data"
    },
    {
     "data": {
      "application/vnd.jupyter.widget-view+json": {
       "model_id": "d2c954388a4a459aa404dea84006be5a",
       "version_major": 2,
       "version_minor": 0
      },
      "text/plain": [
       "One-hot-encoding test_5s labels. (num_proc=3):   0%|          | 0/12000 [00:00<?, ? examples/s]"
      ]
     },
     "metadata": {},
     "output_type": "display_data"
    },
    {
     "data": {
      "application/vnd.jupyter.widget-view+json": {
       "model_id": "7bca74ce399f431daac2ccca76bcaab3",
       "version_major": 2,
       "version_minor": 0
      },
      "text/plain": [
       "Saving the dataset (0/1 shards):   0%|          | 0/14604 [00:00<?, ? examples/s]"
      ]
     },
     "metadata": {},
     "output_type": "display_data"
    },
    {
     "data": {
      "application/vnd.jupyter.widget-view+json": {
       "model_id": "060d4af5c95848a19651ef2b63f498c3",
       "version_major": 2,
       "version_minor": 0
      },
      "text/plain": [
       "Saving the dataset (0/1 shards):   0%|          | 0/3652 [00:00<?, ? examples/s]"
      ]
     },
     "metadata": {},
     "output_type": "display_data"
    },
    {
     "data": {
      "application/vnd.jupyter.widget-view+json": {
       "model_id": "c6b14c6dfd874c81bc08bebb0bcd5d66",
       "version_major": 2,
       "version_minor": 0
      },
      "text/plain": [
       "Saving the dataset (0/1 shards):   0%|          | 0/12000 [00:00<?, ? examples/s]"
      ]
     },
     "metadata": {},
     "output_type": "display_data"
    }
   ],
   "source": [
    "dm.prepare_data()"
   ]
  },
  {
   "cell_type": "code",
   "execution_count": 5,
   "metadata": {},
   "outputs": [
    {
     "data": {
      "text/plain": [
       "'/home/lrauch/projects/birdMAE/data/HSN/HSN_processed_42_8fc39823e3ef9314'"
      ]
     },
     "execution_count": 5,
     "metadata": {},
     "output_type": "execute_result"
    }
   ],
   "source": [
    "dm.disk_save_path"
   ]
  },
  {
   "cell_type": "code",
   "execution_count": 4,
   "metadata": {},
   "outputs": [],
   "source": [
    "ds = load_from_disk(dm.disk_save_path)"
   ]
  },
  {
   "cell_type": "code",
   "execution_count": 6,
   "metadata": {},
   "outputs": [
    {
     "data": {
      "text/plain": [
       "DatasetDict({\n",
       "    train: Dataset({\n",
       "        features: ['filepath', 'labels', 'detected_events', 'start_time', 'end_time'],\n",
       "        num_rows: 14604\n",
       "    })\n",
       "    valid: Dataset({\n",
       "        features: ['filepath', 'labels', 'detected_events', 'start_time', 'end_time'],\n",
       "        num_rows: 3652\n",
       "    })\n",
       "    test: Dataset({\n",
       "        features: ['filepath', 'labels', 'detected_events', 'start_time', 'end_time'],\n",
       "        num_rows: 12000\n",
       "    })\n",
       "})"
      ]
     },
     "execution_count": 6,
     "metadata": {},
     "output_type": "execute_result"
    }
   ],
   "source": [
    "ds"
   ]
  },
  {
   "cell_type": "code",
   "execution_count": 2,
   "metadata": {},
   "outputs": [],
   "source": [
    "from birdset.datamodule.base_datamodule import DatasetConfig\n",
    "from birdset.datamodule.birdset_datamodule import BirdSetDataModule\n",
    "from datasets import load_from_disk\n",
    "\n",
    "# initiate the data module\n",
    "dm = BirdSetDataModule(\n",
    "    dataset= DatasetConfig(\n",
    "        data_dir=\"/home/lrauch/projects/birdMAE/data/UHH\", # specify your data directory!\n",
    "        hf_path='DBD-research-group/BirdSet',\n",
    "        hf_name='UHH',\n",
    "        n_workers=3,\n",
    "        val_split=0.01,\n",
    "        task=\"multilabel\",\n",
    "        classlimit=600, #limit of samples per class \n",
    "        eventlimit=5, #limit of events that are extracted for each sample\n",
    "        sampling_rate=32_000,\n",
    "    ),\n",
    ")"
   ]
  },
  {
   "cell_type": "code",
   "execution_count": 3,
   "metadata": {},
   "outputs": [
    {
     "data": {
      "application/vnd.jupyter.widget-view+json": {
       "model_id": "9ea397618f794af68944a8b3c888d723",
       "version_major": 2,
       "version_minor": 0
      },
      "text/plain": [
       "Train event mapping (num_proc=3):   0%|          | 0/3626 [00:00<?, ? examples/s]"
      ]
     },
     "metadata": {},
     "output_type": "display_data"
    },
    {
     "data": {
      "application/vnd.jupyter.widget-view+json": {
       "model_id": "14cda65880fd4f868ec3132edf13d3cc",
       "version_major": 2,
       "version_minor": 0
      },
      "text/plain": [
       "smart-sampling-1:   0%|          | 0/21362 [00:00<?, ? examples/s]"
      ]
     },
     "metadata": {},
     "output_type": "display_data"
    },
    {
     "data": {
      "application/vnd.jupyter.widget-view+json": {
       "model_id": "0bf3a6d59a95476e92843b7edac8d267",
       "version_major": 2,
       "version_minor": 0
      },
      "text/plain": [
       "One-hot-encoding train labels. (num_proc=3):   0%|          | 0/13182 [00:00<?, ? examples/s]"
      ]
     },
     "metadata": {},
     "output_type": "display_data"
    },
    {
     "data": {
      "application/vnd.jupyter.widget-view+json": {
       "model_id": "2c796703f092460c88d29326221c44b4",
       "version_major": 2,
       "version_minor": 0
      },
      "text/plain": [
       "One-hot-encoding test_5s labels. (num_proc=3):   0%|          | 0/36637 [00:00<?, ? examples/s]"
      ]
     },
     "metadata": {},
     "output_type": "display_data"
    },
    {
     "data": {
      "application/vnd.jupyter.widget-view+json": {
       "model_id": "6379193fccd04d829969c8a84c4e17be",
       "version_major": 2,
       "version_minor": 0
      },
      "text/plain": [
       "Saving the dataset (0/1 shards):   0%|          | 0/13050 [00:00<?, ? examples/s]"
      ]
     },
     "metadata": {},
     "output_type": "display_data"
    },
    {
     "data": {
      "application/vnd.jupyter.widget-view+json": {
       "model_id": "96ad3101cd094e6aad6a4265333ab80b",
       "version_major": 2,
       "version_minor": 0
      },
      "text/plain": [
       "Saving the dataset (0/1 shards):   0%|          | 0/132 [00:00<?, ? examples/s]"
      ]
     },
     "metadata": {},
     "output_type": "display_data"
    },
    {
     "data": {
      "application/vnd.jupyter.widget-view+json": {
       "model_id": "d9bf1e371dbc47ee9d3f5284fc46180d",
       "version_major": 2,
       "version_minor": 0
      },
      "text/plain": [
       "Saving the dataset (0/1 shards):   0%|          | 0/36637 [00:00<?, ? examples/s]"
      ]
     },
     "metadata": {},
     "output_type": "display_data"
    }
   ],
   "source": [
    "dm.prepare_data()"
   ]
  },
  {
   "cell_type": "code",
   "execution_count": 4,
   "metadata": {},
   "outputs": [
    {
     "data": {
      "text/plain": [
       "'/home/lrauch/projects/birdMAE/data/UHH/UHH_processed_42_3c942654f85d89e6'"
      ]
     },
     "execution_count": 4,
     "metadata": {},
     "output_type": "execute_result"
    }
   ],
   "source": [
    "dm.disk_save_path"
   ]
  },
  {
   "cell_type": "code",
   "execution_count": 5,
   "metadata": {},
   "outputs": [],
   "source": [
    "ds = load_from_disk(dm.disk_save_path)"
   ]
  },
  {
   "cell_type": "code",
   "execution_count": 9,
   "metadata": {},
   "outputs": [
    {
     "data": {
      "text/plain": [
       "{'filepath': '/home/lrauch/projects/birdMAE/data/UHH/downloads/extracted/877644cf78aee1d2a333c54b1567dcfa61a89c10c54421c2bb5853d34f3b2263/XC779658.ogg',\n",
       " 'labels': array([0, 0, 1, 0, 0, 0, 0, 0, 0, 0, 0, 0, 0, 0, 0, 0, 0, 0, 0, 0, 0, 0,\n",
       "        0, 0, 0, 0, 0]),\n",
       " 'detected_events': array([63.344, 68.32 ], dtype=float32),\n",
       " 'start_time': nan,\n",
       " 'end_time': nan}"
      ]
     },
     "execution_count": 9,
     "metadata": {},
     "output_type": "execute_result"
    }
   ],
   "source": [
    "ds[\"train\"][2000]"
   ]
  }
 ],
 "metadata": {
  "kernelspec": {
   "display_name": "birdmae",
   "language": "python",
   "name": "python3"
  },
  "language_info": {
   "codemirror_mode": {
    "name": "ipython",
    "version": 3
   },
   "file_extension": ".py",
   "mimetype": "text/x-python",
   "name": "python",
   "nbconvert_exporter": "python",
   "pygments_lexer": "ipython3",
   "version": "3.10.14"
  }
 },
 "nbformat": 4,
 "nbformat_minor": 2
}
