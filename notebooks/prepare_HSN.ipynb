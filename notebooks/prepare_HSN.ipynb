{
 "cells": [
  {
   "cell_type": "code",
   "execution_count": 1,
   "metadata": {},
   "outputs": [
    {
     "data": {
      "application/vnd.jupyter.widget-view+json": {
       "model_id": "3a29e888cc5645c1bf78f99f1896fe6d",
       "version_major": 2,
       "version_minor": 0
      },
      "text/plain": [
       "Downloading builder script:   0%|          | 0.00/24.6k [00:00<?, ?B/s]"
      ]
     },
     "metadata": {},
     "output_type": "display_data"
    },
    {
     "data": {
      "application/vnd.jupyter.widget-view+json": {
       "model_id": "d426e332049c43279bc3cf4a160d44ea",
       "version_major": 2,
       "version_minor": 0
      },
      "text/plain": [
       "Downloading readme:   0%|          | 0.00/17.8k [00:00<?, ?B/s]"
      ]
     },
     "metadata": {},
     "output_type": "display_data"
    },
    {
     "data": {
      "application/vnd.jupyter.widget-view+json": {
       "model_id": "ab3fca41c0eb40c3bf7c9453dfb8cb40",
       "version_major": 2,
       "version_minor": 0
      },
      "text/plain": [
       "Downloading extra modules:   0%|          | 0.00/205k [00:00<?, ?B/s]"
      ]
     },
     "metadata": {},
     "output_type": "display_data"
    },
    {
     "data": {
      "application/vnd.jupyter.widget-view+json": {
       "model_id": "bd3c10e8b8994abb9c839e81674002fb",
       "version_major": 2,
       "version_minor": 0
      },
      "text/plain": [
       "Downloading extra modules:   0%|          | 0.00/10.9k [00:00<?, ?B/s]"
      ]
     },
     "metadata": {},
     "output_type": "display_data"
    },
    {
     "name": "stderr",
     "output_type": "stream",
     "text": [
      "Using the latest cached version of the module from /home/lrauch/.cache/huggingface/modules/datasets_modules/datasets/DBD-research-group--BirdSet/94771b93c7499de19ae5eaa7b58dcc897703df28e3be7912fad8c4b961c0a666 (last modified on Wed Dec 11 13:23:33 2024) since it couldn't be found locally at DBD-research-group/BirdSet, or remotely on the Hugging Face Hub.\n"
     ]
    },
    {
     "data": {
      "application/vnd.jupyter.widget-view+json": {
       "model_id": "fdb35277baab40ddbbc7677c21b5f554",
       "version_major": 2,
       "version_minor": 0
      },
      "text/plain": [
       "Downloading data:   0%|          | 0.00/2.15G [00:00<?, ?B/s]"
      ]
     },
     "metadata": {},
     "output_type": "display_data"
    },
    {
     "data": {
      "application/vnd.jupyter.widget-view+json": {
       "model_id": "94ce46a6a3d04df383a1060e35b710d7",
       "version_major": 2,
       "version_minor": 0
      },
      "text/plain": [
       "Downloading data:   0%|          | 0.00/2.15G [00:00<?, ?B/s]"
      ]
     },
     "metadata": {},
     "output_type": "display_data"
    },
    {
     "data": {
      "application/vnd.jupyter.widget-view+json": {
       "model_id": "ccf454544c154972a5d8d5c24d592daf",
       "version_major": 2,
       "version_minor": 0
      },
      "text/plain": [
       "Downloading data:   0%|          | 0.00/2.15G [00:00<?, ?B/s]"
      ]
     },
     "metadata": {},
     "output_type": "display_data"
    },
    {
     "data": {
      "application/vnd.jupyter.widget-view+json": {
       "model_id": "3d9af0d94c214708a17d7727611a72d2",
       "version_major": 2,
       "version_minor": 0
      },
      "text/plain": [
       "Downloading data:   0%|          | 0.00/2.15G [00:00<?, ?B/s]"
      ]
     },
     "metadata": {},
     "output_type": "display_data"
    },
    {
     "data": {
      "application/vnd.jupyter.widget-view+json": {
       "model_id": "6c12688529e5479c807502deee131be2",
       "version_major": 2,
       "version_minor": 0
      },
      "text/plain": [
       "Downloading data:   0%|          | 0.00/2.15G [00:00<?, ?B/s]"
      ]
     },
     "metadata": {},
     "output_type": "display_data"
    },
    {
     "data": {
      "application/vnd.jupyter.widget-view+json": {
       "model_id": "f50fde357d274af999d05ad1ddc37089",
       "version_major": 2,
       "version_minor": 0
      },
      "text/plain": [
       "Downloading data:   0%|          | 0.00/2.15G [00:00<?, ?B/s]"
      ]
     },
     "metadata": {},
     "output_type": "display_data"
    },
    {
     "data": {
      "application/vnd.jupyter.widget-view+json": {
       "model_id": "fcebce7cb5a549d49780d2bfa0870cd9",
       "version_major": 2,
       "version_minor": 0
      },
      "text/plain": [
       "Downloading data:   0%|          | 0.00/2.15G [00:00<?, ?B/s]"
      ]
     },
     "metadata": {},
     "output_type": "display_data"
    },
    {
     "data": {
      "application/vnd.jupyter.widget-view+json": {
       "model_id": "82f68e78c11d4cd7bf6cda38c0b91291",
       "version_major": 2,
       "version_minor": 0
      },
      "text/plain": [
       "Downloading data:   0%|          | 0.00/417M [00:00<?, ?B/s]"
      ]
     },
     "metadata": {},
     "output_type": "display_data"
    },
    {
     "data": {
      "application/vnd.jupyter.widget-view+json": {
       "model_id": "a40a758c13284298b50e2a61b6d04c0d",
       "version_major": 2,
       "version_minor": 0
      },
      "text/plain": [
       "Downloading data:   0%|          | 0.00/983M [00:00<?, ?B/s]"
      ]
     },
     "metadata": {},
     "output_type": "display_data"
    },
    {
     "data": {
      "application/vnd.jupyter.widget-view+json": {
       "model_id": "e5bd7aae974b4c5495f0dd4b4963a1d7",
       "version_major": 2,
       "version_minor": 0
      },
      "text/plain": [
       "Downloading data:   0%|          | 0.00/211M [00:00<?, ?B/s]"
      ]
     },
     "metadata": {},
     "output_type": "display_data"
    },
    {
     "data": {
      "application/vnd.jupyter.widget-view+json": {
       "model_id": "18a5880d1b27480595280066b2651cb7",
       "version_major": 2,
       "version_minor": 0
      },
      "text/plain": [
       "Downloading data:   0%|          | 0.00/217M [00:00<?, ?B/s]"
      ]
     },
     "metadata": {},
     "output_type": "display_data"
    },
    {
     "data": {
      "application/vnd.jupyter.widget-view+json": {
       "model_id": "fa84489d13594fe499875d169a4947ed",
       "version_major": 2,
       "version_minor": 0
      },
      "text/plain": [
       "Downloading data:   0%|          | 0.00/12.0M [00:00<?, ?B/s]"
      ]
     },
     "metadata": {},
     "output_type": "display_data"
    },
    {
     "data": {
      "application/vnd.jupyter.widget-view+json": {
       "model_id": "2a4f8d0789064099a0b4c6e32d5e0cdb",
       "version_major": 2,
       "version_minor": 0
      },
      "text/plain": [
       "Downloading data:   0%|          | 0.00/199M [00:00<?, ?B/s]"
      ]
     },
     "metadata": {},
     "output_type": "display_data"
    },
    {
     "data": {
      "application/vnd.jupyter.widget-view+json": {
       "model_id": "2ae967452a2f4fd488007fc419727416",
       "version_major": 2,
       "version_minor": 0
      },
      "text/plain": [
       "Downloading data:   0%|          | 0.00/3.05M [00:00<?, ?B/s]"
      ]
     },
     "metadata": {},
     "output_type": "display_data"
    },
    {
     "data": {
      "application/vnd.jupyter.widget-view+json": {
       "model_id": "d6c25809ffe746e19d4fcb9474762647",
       "version_major": 2,
       "version_minor": 0
      },
      "text/plain": [
       "Downloading data:   0%|          | 0.00/549k [00:00<?, ?B/s]"
      ]
     },
     "metadata": {},
     "output_type": "display_data"
    },
    {
     "data": {
      "application/vnd.jupyter.widget-view+json": {
       "model_id": "cbb08820f408460684690876d512fdbb",
       "version_major": 2,
       "version_minor": 0
      },
      "text/plain": [
       "Downloading data:   0%|          | 0.00/111k [00:00<?, ?B/s]"
      ]
     },
     "metadata": {},
     "output_type": "display_data"
    },
    {
     "data": {
      "application/vnd.jupyter.widget-view+json": {
       "model_id": "29d4977cf94c4a91b1eb1f183da1a4c0",
       "version_major": 2,
       "version_minor": 0
      },
      "text/plain": [
       "Extracting train split:   0%|          | 0/9 [00:00<?, ?it/s]"
      ]
     },
     "metadata": {},
     "output_type": "display_data"
    },
    {
     "data": {
      "application/vnd.jupyter.widget-view+json": {
       "model_id": "2fc88ff9278e47f9b6327cb9df9dd766",
       "version_major": 2,
       "version_minor": 0
      },
      "text/plain": [
       "Extracting test split:   0%|          | 0/3 [00:00<?, ?it/s]"
      ]
     },
     "metadata": {},
     "output_type": "display_data"
    },
    {
     "data": {
      "application/vnd.jupyter.widget-view+json": {
       "model_id": "d7503739c2b642e09c9541842a533aeb",
       "version_major": 2,
       "version_minor": 0
      },
      "text/plain": [
       "Extracting test_5s split:   0%|          | 0/1 [00:00<?, ?it/s]"
      ]
     },
     "metadata": {},
     "output_type": "display_data"
    },
    {
     "data": {
      "application/vnd.jupyter.widget-view+json": {
       "model_id": "bbbaec8eb384445d99850a4c56f2ca33",
       "version_major": 2,
       "version_minor": 0
      },
      "text/plain": [
       "Generating train split: 0 examples [00:00, ? examples/s]"
      ]
     },
     "metadata": {},
     "output_type": "display_data"
    },
    {
     "data": {
      "application/vnd.jupyter.widget-view+json": {
       "model_id": "700f0f4ca39e47fa8c20c64d3c22221e",
       "version_major": 2,
       "version_minor": 0
      },
      "text/plain": [
       "Generating test split: 0 examples [00:00, ? examples/s]"
      ]
     },
     "metadata": {},
     "output_type": "display_data"
    },
    {
     "data": {
      "application/vnd.jupyter.widget-view+json": {
       "model_id": "823d93d73b4041a6ba8d7f2628e7506b",
       "version_major": 2,
       "version_minor": 0
      },
      "text/plain": [
       "Generating test_5s split: 0 examples [00:00, ? examples/s]"
      ]
     },
     "metadata": {},
     "output_type": "display_data"
    }
   ],
   "source": [
    "from datasets import load_dataset\n",
    "\n",
    "dataset = load_dataset(\"DBD-research-group/BirdSet\", \"POW\", cache_dir=\"/home/lrauch/projects/birdMAE/data/POW\", num_proc=1)"
   ]
  },
  {
   "cell_type": "code",
   "execution_count": 1,
   "metadata": {},
   "outputs": [],
   "source": [
    "from birdset.datamodule.base_datamodule import DatasetConfig\n",
    "from birdset.datamodule.pretrain_datamodule import PretrainDataModule\n",
    "from datasets import load_from_disk\n",
    "\n",
    "# initiate the data module\n",
    "dm = PretrainDataModule(\n",
    "    dataset= DatasetConfig(\n",
    "        data_dir=\"/home/lrauch/projects/birdMAE/data/XCM\", # specify your data directory!\n",
    "        hf_path='DBD-research-group/BirdSet',\n",
    "        hf_name='XCM',\n",
    "        n_workers=3,\n",
    "        val_split=None,\n",
    "        task=\"multilabel\",\n",
    "        classlimit=500, #limit of samples per class \n",
    "        eventlimit=1, #limit of events that are extracted for each sample\n",
    "        sampling_rate=32_000,\n",
    "        seed=42\n",
    "    ),\n",
    ")"
   ]
  },
  {
   "cell_type": "code",
   "execution_count": null,
   "metadata": {},
   "outputs": [],
   "source": [
    "dm.prepare_data()"
   ]
  },
  {
   "cell_type": "code",
   "execution_count": null,
   "metadata": {},
   "outputs": [],
   "source": [
    "dm.disk_save_path"
   ]
  },
  {
   "cell_type": "code",
   "execution_count": 2,
   "metadata": {},
   "outputs": [],
   "source": [
    "from birdset.datamodule.base_datamodule import DatasetConfig\n",
    "from birdset.datamodule.birdset_datamodule import BirdSetDataModule\n",
    "from datasets import load_from_disk\n",
    "\n",
    "# initiate the data module\n",
    "dm = BirdSetDataModule(\n",
    "    dataset= DatasetConfig(\n",
    "        data_dir=\"/home/lrauch/projects/birdMAE/data/HSN\", # specify your data directory!\n",
    "        hf_path='DBD-research-group/BirdSet',\n",
    "        hf_name='HSN',\n",
    "        n_workers=3,\n",
    "        val_split=0.2,\n",
    "        task=\"multilabel\",\n",
    "        classlimit=600, #limit of samples per class \n",
    "        eventlimit=5, #limit of events that are extracted for each sample\n",
    "        sampling_rate=32_000,\n",
    "    ),\n",
    ")"
   ]
  },
  {
   "cell_type": "code",
   "execution_count": null,
   "metadata": {},
   "outputs": [],
   "source": [
    "dm.prepare_data()"
   ]
  },
  {
   "cell_type": "code",
   "execution_count": null,
   "metadata": {},
   "outputs": [],
   "source": [
    "dm.disk_save_path"
   ]
  },
  {
   "cell_type": "code",
   "execution_count": 4,
   "metadata": {},
   "outputs": [],
   "source": [
    "ds = load_from_disk(dm.disk_save_path)"
   ]
  },
  {
   "cell_type": "code",
   "execution_count": null,
   "metadata": {},
   "outputs": [],
   "source": [
    "ds"
   ]
  },
  {
   "cell_type": "code",
   "execution_count": 23,
   "metadata": {},
   "outputs": [],
   "source": [
    "from datasets import load_from_disk\n",
    "\n",
    "ds = load_from_disk(\"/home/lrauch/projects/birdMAE/data/XCM/XCM_processed_42_004252813e2e3003\")"
   ]
  },
  {
   "cell_type": "code",
   "execution_count": null,
   "metadata": {},
   "outputs": [],
   "source": [
    "ds"
   ]
  },
  {
   "cell_type": "code",
   "execution_count": 1,
   "metadata": {},
   "outputs": [],
   "source": [
    "from birdset.datamodule.base_datamodule import DatasetConfig\n",
    "from birdset.datamodule.birdset_datamodule import BirdSetDataModule\n",
    "from datasets import load_from_disk\n",
    "\n",
    "# initiate the data module\n",
    "dm = BirdSetDataModule(\n",
    "    dataset= DatasetConfig(\n",
    "        data_dir=\"/home/lrauch/projects/birdMAE/data/HSN\", # specify your data directory!\n",
    "        hf_path='DBD-research-group/BirdSet',\n",
    "        hf_name='HSN',\n",
    "        n_workers=3,\n",
    "        val_split=0.0001,\n",
    "        task=\"multilabel\",\n",
    "        classlimit=600, #limit of samples per class \n",
    "        eventlimit=5, #limit of events that are extracted for each sample\n",
    "        sampling_rate=32_000,\n",
    "    ),\n",
    ")"
   ]
  },
  {
   "cell_type": "code",
   "execution_count": 2,
   "metadata": {},
   "outputs": [],
   "source": [
    "from birdset.datamodule.base_datamodule import DatasetConfig\n",
    "from birdset.datamodule.birdset_datamodule import BirdSetDataModule\n",
    "from datasets import load_from_disk\n",
    "\n",
    "# initiate the data module\n",
    "dm = BirdSetDataModule(\n",
    "    dataset= DatasetConfig(\n",
    "        data_dir=\"/home/lrauch/projects/birdMAE/data/POW\", # specify your data directory!\n",
    "        hf_path='DBD-research-group/BirdSet',\n",
    "        hf_name='POW',\n",
    "        n_workers=1,\n",
    "        val_split=0.0001,\n",
    "        task=\"multilabel\",\n",
    "        classlimit=600, #limit of samples per class \n",
    "        eventlimit=5, #limit of events that are extracted for each sample\n",
    "        sampling_rate=32_000,\n",
    "    ),\n",
    ")"
   ]
  },
  {
   "cell_type": "code",
   "execution_count": 3,
   "metadata": {},
   "outputs": [
    {
     "data": {
      "application/vnd.jupyter.widget-view+json": {
       "model_id": "c99fda28f4e34e4c9a891983eab6fbc4",
       "version_major": 2,
       "version_minor": 0
      },
      "text/plain": [
       "Downloading builder script:   0%|          | 0.00/20.9k [00:00<?, ?B/s]"
      ]
     },
     "metadata": {},
     "output_type": "display_data"
    },
    {
     "data": {
      "application/vnd.jupyter.widget-view+json": {
       "model_id": "8859c98f3f7346cabac47b622364ff07",
       "version_major": 2,
       "version_minor": 0
      },
      "text/plain": [
       "Downloading readme:   0%|          | 0.00/15.2k [00:00<?, ?B/s]"
      ]
     },
     "metadata": {},
     "output_type": "display_data"
    },
    {
     "data": {
      "application/vnd.jupyter.widget-view+json": {
       "model_id": "49c6dbb27e5f4ebd888077156e956c75",
       "version_major": 2,
       "version_minor": 0
      },
      "text/plain": [
       "Downloading extra modules:   0%|          | 0.00/146k [00:00<?, ?B/s]"
      ]
     },
     "metadata": {},
     "output_type": "display_data"
    },
    {
     "data": {
      "application/vnd.jupyter.widget-view+json": {
       "model_id": "6e42dc7b00b0461b8c1469e5d0b36f15",
       "version_major": 2,
       "version_minor": 0
      },
      "text/plain": [
       "Downloading extra modules:   0%|          | 0.00/10.8k [00:00<?, ?B/s]"
      ]
     },
     "metadata": {},
     "output_type": "display_data"
    },
    {
     "data": {
      "application/vnd.jupyter.widget-view+json": {
       "model_id": "ce140a31aa5c4bdcaaf4b6e629ec21ea",
       "version_major": 2,
       "version_minor": 0
      },
      "text/plain": [
       "Downloading data:   0%|          | 0.00/199M [00:00<?, ?B/s]"
      ]
     },
     "metadata": {},
     "output_type": "display_data"
    },
    {
     "data": {
      "application/vnd.jupyter.widget-view+json": {
       "model_id": "759c9a6d896744639746e11c6543557d",
       "version_major": 2,
       "version_minor": 0
      },
      "text/plain": [
       "Downloading data:   0%|          | 0.00/3.05M [00:00<?, ?B/s]"
      ]
     },
     "metadata": {},
     "output_type": "display_data"
    },
    {
     "data": {
      "application/vnd.jupyter.widget-view+json": {
       "model_id": "660b9628af314dcf9460e6d2ccf9f6ff",
       "version_major": 2,
       "version_minor": 0
      },
      "text/plain": [
       "Downloading data:   0%|          | 0.00/549k [00:00<?, ?B/s]"
      ]
     },
     "metadata": {},
     "output_type": "display_data"
    },
    {
     "data": {
      "application/vnd.jupyter.widget-view+json": {
       "model_id": "a6d80ed06bfc4e46b348fd1a6fb246f3",
       "version_major": 2,
       "version_minor": 0
      },
      "text/plain": [
       "Downloading data:   0%|          | 0.00/111k [00:00<?, ?B/s]"
      ]
     },
     "metadata": {},
     "output_type": "display_data"
    },
    {
     "data": {
      "application/vnd.jupyter.widget-view+json": {
       "model_id": "a729c930562d404287bab7508e47cd28",
       "version_major": 2,
       "version_minor": 0
      },
      "text/plain": [
       "Generating train split: 0 examples [00:00, ? examples/s]"
      ]
     },
     "metadata": {},
     "output_type": "display_data"
    },
    {
     "data": {
      "application/vnd.jupyter.widget-view+json": {
       "model_id": "171a66bd8b4f41e09cc45beb60a7c60c",
       "version_major": 2,
       "version_minor": 0
      },
      "text/plain": [
       "Generating test split: 0 examples [00:00, ? examples/s]"
      ]
     },
     "metadata": {},
     "output_type": "display_data"
    },
    {
     "name": "stderr",
     "output_type": "stream",
     "text": [
      "Setting num_proc from 3 back to 1 for the test_5s split to disable multiprocessing as it only contains one shard.\n"
     ]
    },
    {
     "data": {
      "application/vnd.jupyter.widget-view+json": {
       "model_id": "8ce4a005b06c457883a2034c61c08313",
       "version_major": 2,
       "version_minor": 0
      },
      "text/plain": [
       "Generating test_5s split: 0 examples [00:00, ? examples/s]"
      ]
     },
     "metadata": {},
     "output_type": "display_data"
    },
    {
     "data": {
      "application/vnd.jupyter.widget-view+json": {
       "model_id": "98351a9bee1b4d7d8e8a6e4d3d2dec6c",
       "version_major": 2,
       "version_minor": 0
      },
      "text/plain": [
       "Train event mapping:   0%|          | 0/14911 [00:00<?, ? examples/s]"
      ]
     },
     "metadata": {},
     "output_type": "display_data"
    },
    {
     "data": {
      "application/vnd.jupyter.widget-view+json": {
       "model_id": "c55d3880e49740958c91def84ce509e2",
       "version_major": 2,
       "version_minor": 0
      },
      "text/plain": [
       "smart-sampling-1:   0%|          | 0/114114 [00:00<?, ? examples/s]"
      ]
     },
     "metadata": {},
     "output_type": "display_data"
    },
    {
     "data": {
      "application/vnd.jupyter.widget-view+json": {
       "model_id": "580ccdcad9c348188ba34bb4330c95ba",
       "version_major": 2,
       "version_minor": 0
      },
      "text/plain": [
       "One-hot-encoding train labels.:   0%|          | 0/52185 [00:00<?, ? examples/s]"
      ]
     },
     "metadata": {},
     "output_type": "display_data"
    },
    {
     "name": "stderr",
     "output_type": "stream",
     "text": [
      "Using the latest cached version of the module from /home/lrauch/.cache/huggingface/modules/datasets_modules/datasets/DBD-research-group--BirdSet/9b65621c06a7a5f7a1a3cca77d81a84a22f3a82da31aa3b5617c6961ccfdcd92 (last modified on Mon Dec 30 17:19:35 2024) since it couldn't be found locally at DBD-research-group/BirdSet, or remotely on the Hugging Face Hub.\n",
      "Using the latest cached version of the module from /home/lrauch/.cache/huggingface/modules/datasets_modules/datasets/DBD-research-group--BirdSet/9b65621c06a7a5f7a1a3cca77d81a84a22f3a82da31aa3b5617c6961ccfdcd92 (last modified on Mon Dec 30 17:19:35 2024) since it couldn't be found locally at DBD-research-group/BirdSet, or remotely on the Hugging Face Hub.\n",
      "Using the latest cached version of the module from /home/lrauch/.cache/huggingface/modules/datasets_modules/datasets/DBD-research-group--BirdSet/9b65621c06a7a5f7a1a3cca77d81a84a22f3a82da31aa3b5617c6961ccfdcd92 (last modified on Mon Dec 30 17:19:35 2024) since it couldn't be found locally at DBD-research-group/BirdSet, or remotely on the Hugging Face Hub.\n",
      "Using the latest cached version of the module from /home/lrauch/.cache/huggingface/modules/datasets_modules/datasets/DBD-research-group--BirdSet/9b65621c06a7a5f7a1a3cca77d81a84a22f3a82da31aa3b5617c6961ccfdcd92 (last modified on Mon Dec 30 17:19:35 2024) since it couldn't be found locally at DBD-research-group/BirdSet, or remotely on the Hugging Face Hub.\n",
      "Using the latest cached version of the module from /home/lrauch/.cache/huggingface/modules/datasets_modules/datasets/DBD-research-group--BirdSet/9b65621c06a7a5f7a1a3cca77d81a84a22f3a82da31aa3b5617c6961ccfdcd92 (last modified on Mon Dec 30 17:19:35 2024) since it couldn't be found locally at DBD-research-group/BirdSet, or remotely on the Hugging Face Hub.\n",
      "Using the latest cached version of the module from /home/lrauch/.cache/huggingface/modules/datasets_modules/datasets/DBD-research-group--BirdSet/9b65621c06a7a5f7a1a3cca77d81a84a22f3a82da31aa3b5617c6961ccfdcd92 (last modified on Mon Dec 30 17:19:35 2024) since it couldn't be found locally at DBD-research-group/BirdSet, or remotely on the Hugging Face Hub.\n",
      "Using the latest cached version of the module from /home/lrauch/.cache/huggingface/modules/datasets_modules/datasets/DBD-research-group--BirdSet/9b65621c06a7a5f7a1a3cca77d81a84a22f3a82da31aa3b5617c6961ccfdcd92 (last modified on Mon Dec 30 17:19:35 2024) since it couldn't be found locally at DBD-research-group/BirdSet, or remotely on the Hugging Face Hub.\n",
      "Using the latest cached version of the module from /home/lrauch/.cache/huggingface/modules/datasets_modules/datasets/DBD-research-group--BirdSet/9b65621c06a7a5f7a1a3cca77d81a84a22f3a82da31aa3b5617c6961ccfdcd92 (last modified on Mon Dec 30 17:19:35 2024) since it couldn't be found locally at DBD-research-group/BirdSet, or remotely on the Hugging Face Hub.\n",
      "Using the latest cached version of the module from /home/lrauch/.cache/huggingface/modules/datasets_modules/datasets/DBD-research-group--BirdSet/9b65621c06a7a5f7a1a3cca77d81a84a22f3a82da31aa3b5617c6961ccfdcd92 (last modified on Mon Dec 30 17:19:35 2024) since it couldn't be found locally at DBD-research-group/BirdSet, or remotely on the Hugging Face Hub.\n",
      "Using the latest cached version of the module from /home/lrauch/.cache/huggingface/modules/datasets_modules/datasets/DBD-research-group--BirdSet/9b65621c06a7a5f7a1a3cca77d81a84a22f3a82da31aa3b5617c6961ccfdcd92 (last modified on Mon Dec 30 17:19:35 2024) since it couldn't be found locally at DBD-research-group/BirdSet, or remotely on the Hugging Face Hub.\n",
      "Using the latest cached version of the module from /home/lrauch/.cache/huggingface/modules/datasets_modules/datasets/DBD-research-group--BirdSet/9b65621c06a7a5f7a1a3cca77d81a84a22f3a82da31aa3b5617c6961ccfdcd92 (last modified on Mon Dec 30 17:19:35 2024) since it couldn't be found locally at DBD-research-group/BirdSet, or remotely on the Hugging Face Hub.\n",
      "Using the latest cached version of the module from /home/lrauch/.cache/huggingface/modules/datasets_modules/datasets/DBD-research-group--BirdSet/9b65621c06a7a5f7a1a3cca77d81a84a22f3a82da31aa3b5617c6961ccfdcd92 (last modified on Mon Dec 30 17:19:35 2024) since it couldn't be found locally at DBD-research-group/BirdSet, or remotely on the Hugging Face Hub.\n",
      "Using the latest cached version of the module from /home/lrauch/.cache/huggingface/modules/datasets_modules/datasets/DBD-research-group--BirdSet/9b65621c06a7a5f7a1a3cca77d81a84a22f3a82da31aa3b5617c6961ccfdcd92 (last modified on Mon Dec 30 17:19:35 2024) since it couldn't be found locally at DBD-research-group/BirdSet, or remotely on the Hugging Face Hub.\n",
      "Using the latest cached version of the module from /home/lrauch/.cache/huggingface/modules/datasets_modules/datasets/DBD-research-group--BirdSet/9b65621c06a7a5f7a1a3cca77d81a84a22f3a82da31aa3b5617c6961ccfdcd92 (last modified on Mon Dec 30 17:19:35 2024) since it couldn't be found locally at DBD-research-group/BirdSet, or remotely on the Hugging Face Hub.\n",
      "Using the latest cached version of the module from /home/lrauch/.cache/huggingface/modules/datasets_modules/datasets/DBD-research-group--BirdSet/9b65621c06a7a5f7a1a3cca77d81a84a22f3a82da31aa3b5617c6961ccfdcd92 (last modified on Mon Dec 30 17:19:35 2024) since it couldn't be found locally at DBD-research-group/BirdSet, or remotely on the Hugging Face Hub.\n",
      "Using the latest cached version of the module from /home/lrauch/.cache/huggingface/modules/datasets_modules/datasets/DBD-research-group--BirdSet/9b65621c06a7a5f7a1a3cca77d81a84a22f3a82da31aa3b5617c6961ccfdcd92 (last modified on Mon Dec 30 17:19:35 2024) since it couldn't be found locally at DBD-research-group/BirdSet, or remotely on the Hugging Face Hub.\n",
      "Using the latest cached version of the module from /home/lrauch/.cache/huggingface/modules/datasets_modules/datasets/DBD-research-group--BirdSet/9b65621c06a7a5f7a1a3cca77d81a84a22f3a82da31aa3b5617c6961ccfdcd92 (last modified on Mon Dec 30 17:19:35 2024) since it couldn't be found locally at DBD-research-group/BirdSet, or remotely on the Hugging Face Hub.\n",
      "Using the latest cached version of the module from /home/lrauch/.cache/huggingface/modules/datasets_modules/datasets/DBD-research-group--BirdSet/9b65621c06a7a5f7a1a3cca77d81a84a22f3a82da31aa3b5617c6961ccfdcd92 (last modified on Mon Dec 30 17:19:35 2024) since it couldn't be found locally at DBD-research-group/BirdSet, or remotely on the Hugging Face Hub.\n",
      "Using the latest cached version of the module from /home/lrauch/.cache/huggingface/modules/datasets_modules/datasets/DBD-research-group--BirdSet/9b65621c06a7a5f7a1a3cca77d81a84a22f3a82da31aa3b5617c6961ccfdcd92 (last modified on Mon Dec 30 17:19:35 2024) since it couldn't be found locally at DBD-research-group/BirdSet, or remotely on the Hugging Face Hub.\n",
      "Using the latest cached version of the module from /home/lrauch/.cache/huggingface/modules/datasets_modules/datasets/DBD-research-group--BirdSet/9b65621c06a7a5f7a1a3cca77d81a84a22f3a82da31aa3b5617c6961ccfdcd92 (last modified on Mon Dec 30 17:19:35 2024) since it couldn't be found locally at DBD-research-group/BirdSet, or remotely on the Hugging Face Hub.\n",
      "Using the latest cached version of the module from /home/lrauch/.cache/huggingface/modules/datasets_modules/datasets/DBD-research-group--BirdSet/9b65621c06a7a5f7a1a3cca77d81a84a22f3a82da31aa3b5617c6961ccfdcd92 (last modified on Mon Dec 30 17:19:35 2024) since it couldn't be found locally at DBD-research-group/BirdSet, or remotely on the Hugging Face Hub.\n",
      "Using the latest cached version of the module from /home/lrauch/.cache/huggingface/modules/datasets_modules/datasets/DBD-research-group--BirdSet/9b65621c06a7a5f7a1a3cca77d81a84a22f3a82da31aa3b5617c6961ccfdcd92 (last modified on Mon Dec 30 17:19:35 2024) since it couldn't be found locally at DBD-research-group/BirdSet, or remotely on the Hugging Face Hub.\n",
      "Using the latest cached version of the module from /home/lrauch/.cache/huggingface/modules/datasets_modules/datasets/DBD-research-group--BirdSet/9b65621c06a7a5f7a1a3cca77d81a84a22f3a82da31aa3b5617c6961ccfdcd92 (last modified on Mon Dec 30 17:19:35 2024) since it couldn't be found locally at DBD-research-group/BirdSet, or remotely on the Hugging Face Hub.\n",
      "Using the latest cached version of the module from /home/lrauch/.cache/huggingface/modules/datasets_modules/datasets/DBD-research-group--BirdSet/9b65621c06a7a5f7a1a3cca77d81a84a22f3a82da31aa3b5617c6961ccfdcd92 (last modified on Mon Dec 30 17:19:35 2024) since it couldn't be found locally at DBD-research-group/BirdSet, or remotely on the Hugging Face Hub.\n",
      "Using the latest cached version of the module from /home/lrauch/.cache/huggingface/modules/datasets_modules/datasets/DBD-research-group--BirdSet/9b65621c06a7a5f7a1a3cca77d81a84a22f3a82da31aa3b5617c6961ccfdcd92 (last modified on Mon Dec 30 17:19:35 2024) since it couldn't be found locally at DBD-research-group/BirdSet, or remotely on the Hugging Face Hub.\n",
      "Using the latest cached version of the module from /home/lrauch/.cache/huggingface/modules/datasets_modules/datasets/DBD-research-group--BirdSet/9b65621c06a7a5f7a1a3cca77d81a84a22f3a82da31aa3b5617c6961ccfdcd92 (last modified on Mon Dec 30 17:19:35 2024) since it couldn't be found locally at DBD-research-group/BirdSet, or remotely on the Hugging Face Hub.\n",
      "Using the latest cached version of the module from /home/lrauch/.cache/huggingface/modules/datasets_modules/datasets/DBD-research-group--BirdSet/9b65621c06a7a5f7a1a3cca77d81a84a22f3a82da31aa3b5617c6961ccfdcd92 (last modified on Mon Dec 30 17:19:35 2024) since it couldn't be found locally at DBD-research-group/BirdSet, or remotely on the Hugging Face Hub.\n",
      "Using the latest cached version of the module from /home/lrauch/.cache/huggingface/modules/datasets_modules/datasets/DBD-research-group--BirdSet/9b65621c06a7a5f7a1a3cca77d81a84a22f3a82da31aa3b5617c6961ccfdcd92 (last modified on Mon Dec 30 17:19:35 2024) since it couldn't be found locally at DBD-research-group/BirdSet, or remotely on the Hugging Face Hub.\n",
      "Using the latest cached version of the module from /home/lrauch/.cache/huggingface/modules/datasets_modules/datasets/DBD-research-group--BirdSet/9b65621c06a7a5f7a1a3cca77d81a84a22f3a82da31aa3b5617c6961ccfdcd92 (last modified on Mon Dec 30 17:19:35 2024) since it couldn't be found locally at DBD-research-group/BirdSet, or remotely on the Hugging Face Hub.\n",
      "Using the latest cached version of the module from /home/lrauch/.cache/huggingface/modules/datasets_modules/datasets/DBD-research-group--BirdSet/9b65621c06a7a5f7a1a3cca77d81a84a22f3a82da31aa3b5617c6961ccfdcd92 (last modified on Mon Dec 30 17:19:35 2024) since it couldn't be found locally at DBD-research-group/BirdSet, or remotely on the Hugging Face Hub.\n",
      "Using the latest cached version of the module from /home/lrauch/.cache/huggingface/modules/datasets_modules/datasets/DBD-research-group--BirdSet/9b65621c06a7a5f7a1a3cca77d81a84a22f3a82da31aa3b5617c6961ccfdcd92 (last modified on Mon Dec 30 17:19:35 2024) since it couldn't be found locally at DBD-research-group/BirdSet, or remotely on the Hugging Face Hub.\n",
      "Using the latest cached version of the module from /home/lrauch/.cache/huggingface/modules/datasets_modules/datasets/DBD-research-group--BirdSet/9b65621c06a7a5f7a1a3cca77d81a84a22f3a82da31aa3b5617c6961ccfdcd92 (last modified on Mon Dec 30 17:19:35 2024) since it couldn't be found locally at DBD-research-group/BirdSet, or remotely on the Hugging Face Hub.\n",
      "Using the latest cached version of the module from /home/lrauch/.cache/huggingface/modules/datasets_modules/datasets/DBD-research-group--BirdSet/9b65621c06a7a5f7a1a3cca77d81a84a22f3a82da31aa3b5617c6961ccfdcd92 (last modified on Mon Dec 30 17:19:35 2024) since it couldn't be found locally at DBD-research-group/BirdSet, or remotely on the Hugging Face Hub.\n",
      "Using the latest cached version of the module from /home/lrauch/.cache/huggingface/modules/datasets_modules/datasets/DBD-research-group--BirdSet/9b65621c06a7a5f7a1a3cca77d81a84a22f3a82da31aa3b5617c6961ccfdcd92 (last modified on Mon Dec 30 17:19:35 2024) since it couldn't be found locally at DBD-research-group/BirdSet, or remotely on the Hugging Face Hub.\n",
      "Using the latest cached version of the module from /home/lrauch/.cache/huggingface/modules/datasets_modules/datasets/DBD-research-group--BirdSet/9b65621c06a7a5f7a1a3cca77d81a84a22f3a82da31aa3b5617c6961ccfdcd92 (last modified on Mon Dec 30 17:19:35 2024) since it couldn't be found locally at DBD-research-group/BirdSet, or remotely on the Hugging Face Hub.\n"
     ]
    },
    {
     "data": {
      "application/vnd.jupyter.widget-view+json": {
       "model_id": "55cd92f1bf59492386eb1348552b851d",
       "version_major": 2,
       "version_minor": 0
      },
      "text/plain": [
       "One-hot-encoding test_5s labels.:   0%|          | 0/4560 [00:00<?, ? examples/s]"
      ]
     },
     "metadata": {},
     "output_type": "display_data"
    },
    {
     "name": "stderr",
     "output_type": "stream",
     "text": [
      "Using the latest cached version of the module from /home/lrauch/.cache/huggingface/modules/datasets_modules/datasets/DBD-research-group--BirdSet/9b65621c06a7a5f7a1a3cca77d81a84a22f3a82da31aa3b5617c6961ccfdcd92 (last modified on Mon Dec 30 17:19:35 2024) since it couldn't be found locally at DBD-research-group/BirdSet, or remotely on the Hugging Face Hub.\n",
      "Using the latest cached version of the module from /home/lrauch/.cache/huggingface/modules/datasets_modules/datasets/DBD-research-group--BirdSet/9b65621c06a7a5f7a1a3cca77d81a84a22f3a82da31aa3b5617c6961ccfdcd92 (last modified on Mon Dec 30 17:19:35 2024) since it couldn't be found locally at DBD-research-group/BirdSet, or remotely on the Hugging Face Hub.\n",
      "Using the latest cached version of the module from /home/lrauch/.cache/huggingface/modules/datasets_modules/datasets/DBD-research-group--BirdSet/9b65621c06a7a5f7a1a3cca77d81a84a22f3a82da31aa3b5617c6961ccfdcd92 (last modified on Mon Dec 30 17:19:35 2024) since it couldn't be found locally at DBD-research-group/BirdSet, or remotely on the Hugging Face Hub.\n",
      "Using the latest cached version of the module from /home/lrauch/.cache/huggingface/modules/datasets_modules/datasets/DBD-research-group--BirdSet/9b65621c06a7a5f7a1a3cca77d81a84a22f3a82da31aa3b5617c6961ccfdcd92 (last modified on Mon Dec 30 17:19:35 2024) since it couldn't be found locally at DBD-research-group/BirdSet, or remotely on the Hugging Face Hub.\n"
     ]
    },
    {
     "data": {
      "application/vnd.jupyter.widget-view+json": {
       "model_id": "c14adc6fc03f41c4a82e717288f77da9",
       "version_major": 2,
       "version_minor": 0
      },
      "text/plain": [
       "Saving the dataset (0/1 shards):   0%|          | 0/52179 [00:00<?, ? examples/s]"
      ]
     },
     "metadata": {},
     "output_type": "display_data"
    },
    {
     "data": {
      "application/vnd.jupyter.widget-view+json": {
       "model_id": "8fecf8aeb9414b2f891294d60e33c70d",
       "version_major": 2,
       "version_minor": 0
      },
      "text/plain": [
       "Saving the dataset (0/1 shards):   0%|          | 0/6 [00:00<?, ? examples/s]"
      ]
     },
     "metadata": {},
     "output_type": "display_data"
    },
    {
     "data": {
      "application/vnd.jupyter.widget-view+json": {
       "model_id": "f6b85f6873294870a589da4ae6b3a551",
       "version_major": 2,
       "version_minor": 0
      },
      "text/plain": [
       "Saving the dataset (0/1 shards):   0%|          | 0/4560 [00:00<?, ? examples/s]"
      ]
     },
     "metadata": {},
     "output_type": "display_data"
    }
   ],
   "source": [
    "dm.prepare_data()"
   ]
  },
  {
   "cell_type": "code",
   "execution_count": 4,
   "metadata": {},
   "outputs": [
    {
     "data": {
      "text/plain": [
       "'/home/lrauch/projects/birdMAE/data/POW/POW_processed_42_38d2b8b85681b12a'"
      ]
     },
     "execution_count": 4,
     "metadata": {},
     "output_type": "execute_result"
    }
   ],
   "source": [
    "dm.disk_save_path"
   ]
  },
  {
   "cell_type": "code",
   "execution_count": 16,
   "metadata": {},
   "outputs": [],
   "source": [
    "new_ds = load_from_disk(\"/home/lrauch/projects/birdMAE/data/HSN/HSN_processed_42_876267698be39955\")"
   ]
  },
  {
   "cell_type": "code",
   "execution_count": null,
   "metadata": {},
   "outputs": [],
   "source": [
    "new_ds[\"train\"][0]"
   ]
  },
  {
   "cell_type": "code",
   "execution_count": 20,
   "metadata": {},
   "outputs": [],
   "source": [
    "old_ds = load_from_disk('/home/lrauch/projects/birdMAE/data/HSN/HSN_processed_42_8fc39823e3ef9314')"
   ]
  },
  {
   "cell_type": "code",
   "execution_count": null,
   "metadata": {},
   "outputs": [],
   "source": [
    "new_ds[\"train\"][0]"
   ]
  },
  {
   "cell_type": "code",
   "execution_count": null,
   "metadata": {},
   "outputs": [],
   "source": [
    "ds[\"train\"][0][\"labels\"]"
   ]
  },
  {
   "cell_type": "code",
   "execution_count": 9,
   "metadata": {},
   "outputs": [],
   "source": [
    "ds = load_from_disk('/home/lrauch/projects/birdMAE/data/HSN/HSN_processed_42_8fc39823e3ef9314')"
   ]
  },
  {
   "cell_type": "code",
   "execution_count": null,
   "metadata": {},
   "outputs": [],
   "source": [
    "ds[\"train\"][0]"
   ]
  },
  {
   "cell_type": "code",
   "execution_count": null,
   "metadata": {},
   "outputs": [],
   "source": [
    "ds[\"train\"][2000]"
   ]
  },
  {
   "cell_type": "code",
   "execution_count": 1,
   "metadata": {},
   "outputs": [],
   "source": [
    "from datasets import load_dataset\n",
    "\n",
    "dataset = load_dataset(\n",
    "    \"DBD-research-group/BirdSet\", \n",
    "    \"HSN\", \n",
    "    cache_dir=\"/home/lrauch/projects/birdMAE/data/HSN\", \n",
    "    num_proc=1, \n",
    "    revision=\"629b54c06874b6d2fa886e1c0d73146c975612d0\"\n",
    ")"
   ]
  },
  {
   "cell_type": "code",
   "execution_count": null,
   "metadata": {},
   "outputs": [],
   "source": [
    "dataset[\"train\"].features[\"ebird_code\"].int2str(0)"
   ]
  },
  {
   "cell_type": "code",
   "execution_count": null,
   "metadata": {},
   "outputs": [],
   "source": [
    "dataset[\"train\"].features[\"ebird_code\"]"
   ]
  },
  {
   "cell_type": "code",
   "execution_count": null,
   "metadata": {},
   "outputs": [],
   "source": [
    "dataset[\"train\"].features[\"ebird_code\"].names"
   ]
  },
  {
   "cell_type": "code",
   "execution_count": null,
   "metadata": {},
   "outputs": [],
   "source": [
    "from datasets import load_dataset, Audio\n",
    "\n",
    "dataset = load_dataset(\"ashraq/esc50\", cache_dir=\"/home/lrauch/projects/birdMAE/data/esc50\")"
   ]
  },
  {
   "cell_type": "code",
   "execution_count": 6,
   "metadata": {},
   "outputs": [],
   "source": [
    "dataset = dataset.cast_column(\n",
    "    \"audio\", Audio(sampling_rate=32_000, decode=False)\n",
    ")"
   ]
  },
  {
   "cell_type": "code",
   "execution_count": 9,
   "metadata": {},
   "outputs": [],
   "source": [
    "dataset[\"train\"][0][\"audio\"][\"path\"]\n"
   ]
  },
  {
   "cell_type": "code",
   "execution_count": 10,
   "metadata": {},
   "outputs": [],
   "source": [
    "from datasets import load_from_disk\n",
    "\n",
    "\n",
    "ds = load_from_disk(\"/home/lrauch/projects/birdMAE/data/HSN/HSN_processed_42_876267698be39955\")"
   ]
  },
  {
   "cell_type": "code",
   "execution_count": null,
   "metadata": {},
   "outputs": [],
   "source": [
    "ds[\"test\"][0]"
   ]
  },
  {
   "cell_type": "code",
   "execution_count": null,
   "metadata": {},
   "outputs": [],
   "source": [
    "from tqdm import tqdm \n",
    "# Iterate through the test dataset and modify labels\n",
    "for i in tqdm(range(len(ds[\"test\"]))):\n",
    "    # Access the current sample\n",
    "    sample = ds[\"test\"][i]\n",
    "    \n",
    "    # Modify the labels array\n",
    "    for index in [16, 11, 5, 15]:\n",
    "        if sample['labels'][index] == 1:\n",
    "            sample['labels'][index] = 0\n",
    "\n",
    "    # Update the dataset with the modified sample\n",
    "    ds[\"test\"][i] = sample"
   ]
  },
  {
   "cell_type": "code",
   "execution_count": null,
   "metadata": {},
   "outputs": [],
   "source": [
    "# Create a new list to hold modified samples\n",
    "modified_samples = []\n",
    "\n",
    "# Iterate through the test dataset and modify labels\n",
    "for i in range(len(ds[\"test\"])):\n",
    "    # Access the current sample\n",
    "    sample = ds[\"test\"][i]\n",
    "    \n",
    "    # Modify the labels array\n",
    "    for index in [16, 11, 5, 15]:\n",
    "        if sample['labels'][index] == 1:\n",
    "            print(\"got one\")\n",
    "            sample['labels'][index] = 0\n",
    "\n",
    "    # Append the modified sample to the new list\n",
    "    modified_samples.append(sample)\n",
    "\n",
    "# Create a new dataset from the modified samples\n",
    "from datasets import Dataset\n",
    "modified_ds = Dataset.from_dict({\n",
    "    'filepath': [s['filepath'] for s in modified_samples],\n",
    "    'labels': [s['labels'] for s in modified_samples],\n",
    "    'detected_events': [s['detected_events'] for s in modified_samples],\n",
    "    'start_time': [s['start_time'] for s in modified_samples],\n",
    "    'end_time': [s['end_time'] for s in modified_samples],\n",
    "})"
   ]
  },
  {
   "cell_type": "code",
   "execution_count": null,
   "metadata": {},
   "outputs": [],
   "source": [
    "len(modified_samples)"
   ]
  },
  {
   "cell_type": "code",
   "execution_count": null,
   "metadata": {},
   "outputs": [],
   "source": [
    "modified_ds"
   ]
  },
  {
   "cell_type": "code",
   "execution_count": 19,
   "metadata": {},
   "outputs": [],
   "source": [
    "ds[\"test\"] = modified_ds"
   ]
  },
  {
   "cell_type": "code",
   "execution_count": null,
   "metadata": {},
   "outputs": [],
   "source": [
    "ds.save_to_disk(\"/home/lrauch/projects/birdMAE/data/HSN/HSN_processed_42_876267698be39955_removesub5\")"
   ]
  },
  {
   "cell_type": "code",
   "execution_count": null,
   "metadata": {},
   "outputs": [],
   "source": [
    "from datasets import load_dataset\n",
    "\n",
    "dataset = load_dataset(\"DBD-research-group/BirdSet\", \"HSN\", trust_remote_code=True, cache_dir=\"/home/lrauch/projects/birdMAE/data/HSN_test2\", num_proc=1)"
   ]
  },
  {
   "cell_type": "code",
   "execution_count": 1,
   "metadata": {},
   "outputs": [],
   "source": [
    "from datasets import load_from_disk\n",
    "\n",
    "ds = load_from_disk(\"/home/lrauch/projects/birdMAE/data/XCM/XCM_processed_42_004252813e2e3003\")"
   ]
  },
  {
   "cell_type": "code",
   "execution_count": 2,
   "metadata": {},
   "outputs": [
    {
     "data": {
      "text/plain": [
       "DatasetDict({\n",
       "    train: Dataset({\n",
       "        features: ['filepath', 'labels', 'detected_events', 'start_time', 'end_time'],\n",
       "        num_rows: 184565\n",
       "    })\n",
       "    valid: Dataset({\n",
       "        features: ['filepath', 'labels', 'detected_events', 'start_time', 'end_time'],\n",
       "        num_rows: 4560\n",
       "    })\n",
       "})"
      ]
     },
     "execution_count": 2,
     "metadata": {},
     "output_type": "execute_result"
    }
   ],
   "source": [
    "ds"
   ]
  }
 ],
 "metadata": {
  "kernelspec": {
   "display_name": "birdmae",
   "language": "python",
   "name": "python3"
  },
  "language_info": {
   "codemirror_mode": {
    "name": "ipython",
    "version": 3
   },
   "file_extension": ".py",
   "mimetype": "text/x-python",
   "name": "python",
   "nbconvert_exporter": "python",
   "pygments_lexer": "ipython3",
   "version": "3.10.14"
  }
 },
 "nbformat": 4,
 "nbformat_minor": 2
}
