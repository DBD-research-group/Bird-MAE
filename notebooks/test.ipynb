{
 "cells": [
  {
   "cell_type": "code",
   "execution_count": 4,
   "metadata": {},
   "outputs": [
    {
     "name": "stdout",
     "output_type": "stream",
     "text": [
      "Multilabel (macro) AUROC: 0.6666666865348816\n"
     ]
    }
   ],
   "source": [
    "import torch\n",
    "from torchmetrics.classification import MultilabelAUROC\n",
    "\n",
    "# Suppose we have 3 labels (num_labels=3).\n",
    "# We'll simulate predictions (\"preds\") for 5 samples, each with 3 label probabilities.\n",
    "# We'll also simulate target labels (\"target\"), where one label (class 2) never appears\n",
    "# in the positive set, illustrating the missing-class scenario.\n",
    "\n",
    "preds = torch.tensor([\n",
    "    [0.7,  0.1,  0.05],  # sample 1\n",
    "    [0.4,  0.9,  0.02],  # sample 2\n",
    "    [0.8,  0.2,  0.01],  # sample 3\n",
    "    [0.1,  0.7,  0.03],  # sample 4\n",
    "    [0.6,  0.8,  0.00],  # sample 5\n",
    "])\n",
    "\n",
    "# Each row is a single sample's ground truth for 3 labels.\n",
    "# For instance, target[i, j] = 1 means sample i is positive for class j.\n",
    "# Notice all entries for class 2 (last column) are zero => no positive samples for that class.\n",
    "target = torch.tensor([\n",
    "    [1, 0, 0],\n",
    "    [0, 1, 0],\n",
    "    [1, 0, 0],\n",
    "    [0, 1, 0],\n",
    "    [1, 1, 0],\n",
    "])\n",
    "\n",
    "# Initialize the MultilabelAUROC metric.\n",
    "# average='macro' -> The metric averages AUROCs across classes equally.\n",
    "metric = MultilabelAUROC(num_labels=3, average='macro')\n",
    "\n",
    "# Compute AUROC over these 5 samples\n",
    "score = metric(preds, target)\n",
    "print(f\"Multilabel (macro) AUROC: {score}\")"
   ]
  }
 ],
 "metadata": {
  "kernelspec": {
   "display_name": "birdmae",
   "language": "python",
   "name": "python3"
  },
  "language_info": {
   "codemirror_mode": {
    "name": "ipython",
    "version": 3
   },
   "file_extension": ".py",
   "mimetype": "text/x-python",
   "name": "python",
   "nbconvert_exporter": "python",
   "pygments_lexer": "ipython3",
   "version": "3.10.14"
  }
 },
 "nbformat": 4,
 "nbformat_minor": 2
}
